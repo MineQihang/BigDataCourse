{
 "cells": [
  {
   "cell_type": "code",
   "execution_count": 10,
   "metadata": {},
   "outputs": [],
   "source": [
    "import torch\n",
    "from wordsegment import WordSegmenter"
   ]
  },
  {
   "cell_type": "code",
   "execution_count": 11,
   "metadata": {},
   "outputs": [],
   "source": [
    "sentence = [\"到了一个新地方，有人爱逛百货公司，有人爱逛书店，我宁可去逛逛菜市。看看生鸡活鸭、新鲜水灵的瓜菜、彤红的辣椒，热热闹闹，挨挨挤挤，让人感到一种生之乐趣。\"]"
   ]
  },
  {
   "cell_type": "code",
   "execution_count": 12,
   "metadata": {},
   "outputs": [
    {
     "name": "stdout",
     "output_type": "stream",
     "text": [
      "[['到', '了', '一', '个', '新', '地方', '，', '有', '人', '爱', '逛', '百货', '公司', '，', '有', '人', '爱', '逛', '书', '店', '，', '我', '宁', '可', '去', '逛逛', '菜市', '。', '看看', '生', '鸡', '活', '鸭', '、', '新', '鲜', '水灵', '的', '瓜菜', '、', '彤红', '的', '辣椒', '，', '热', '热闹闹', '，', '挨挨', '挤', '挤', '，', '让', '人', '感到', '一', '种', '生', '之', '乐趣', '。']]\n"
     ]
    }
   ],
   "source": [
    "from transformers import AutoTokenizer, AutoModelForTokenClassification\n",
    "\n",
    "tokenizer = AutoTokenizer.from_pretrained(\"ckiplab/albert-tiny-chinese-ws\")\n",
    "\n",
    "model = AutoModelForTokenClassification.from_pretrained(\"ckiplab/albert-tiny-chinese-ws\")\n",
    "ws = WordSegmenter(model=model,tokenizer=tokenizer,device = torch.device(\"cuda\" if torch.cuda.is_available() else \"cpu\"))\n",
    "print(ws.segment(sentence))"
   ]
  },
  {
   "cell_type": "code",
   "execution_count": 13,
   "metadata": {},
   "outputs": [
    {
     "name": "stdout",
     "output_type": "stream",
     "text": [
      "[['到', '了', '一', '个', '新', '地方', '，', '有', '人', '爱', '逛', '百货公司', '，', '有', '人', '爱', '逛', '书店', '，', '我', '宁', '可', '去', '逛逛', '菜市', '。', '看看', '生鸡', '活', '鸭', '、', '新鲜', '水灵', '的', '瓜菜', '、', '彤红', '的', '辣椒', '，', '热热', '闹闹', '，', '挨挨挤挤', '，', '让', '人', '感到', '一', '种', '生', '之', '乐趣', '。']]\n"
     ]
    }
   ],
   "source": [
    "from transformers import AutoTokenizer, AutoModelForTokenClassification\n",
    "\n",
    "tokenizer = AutoTokenizer.from_pretrained(\"ckiplab/albert-base-chinese-ws\")\n",
    "\n",
    "model = AutoModelForTokenClassification.from_pretrained(\"ckiplab/albert-base-chinese-ws\")\n",
    "ws = WordSegmenter(model=model,tokenizer=tokenizer,device = torch.device(\"cuda\" if torch.cuda.is_available() else \"cpu\"))\n",
    "print(ws.segment(sentence))"
   ]
  },
  {
   "cell_type": "code",
   "execution_count": 14,
   "metadata": {},
   "outputs": [
    {
     "name": "stdout",
     "output_type": "stream",
     "text": [
      "[['到', '了', '一', '个', '新', '地方', '，', '有', '人', '爱', '逛', '百货', '公司', '，', '有', '人', '爱', '逛', '书', '店', '，', '我', '宁', '可', '去', '逛逛', '菜市', '。', '看看', '生', '鸡', '活鸭', '、', '新', '鲜', '水', '灵', '的', '瓜菜', '、', '彤红', '的', '辣椒', '，', '热热闹闹', '，', '挨挨挤挤', '，', '让', '人', '感到', '一', '种生', '之', '乐', '趣', '。']]\n"
     ]
    }
   ],
   "source": [
    "from transformers import AutoTokenizer, AutoModelForTokenClassification\n",
    "\n",
    "tokenizer = AutoTokenizer.from_pretrained(\"ckiplab/bert-tiny-chinese-ws\")\n",
    "\n",
    "model = AutoModelForTokenClassification.from_pretrained(\"ckiplab/bert-tiny-chinese-ws\")\n",
    "ws = WordSegmenter(model=model,tokenizer=tokenizer,device = torch.device(\"cuda\" if torch.cuda.is_available() else \"cpu\"))\n",
    "print(ws.segment(sentence))"
   ]
  },
  {
   "cell_type": "code",
   "execution_count": 15,
   "metadata": {},
   "outputs": [
    {
     "name": "stdout",
     "output_type": "stream",
     "text": [
      "[['到', '了', '一', '个', '新', '地方', '，', '有', '人', '爱', '逛', '百货公司', '，', '有', '人', '爱', '逛', '书店', '，', '我', '宁可', '去', '逛逛', '菜市', '。', '看看', '生', '鸡', '活', '鸭', '、', '新鲜', '水灵', '的', '瓜菜', '、', '彤红', '的', '辣椒', '，', '热热闹闹', '，', '挨挨挤挤', '，', '让', '人', '感到', '一', '种', '生', '之', '乐趣', '。']]\n"
     ]
    }
   ],
   "source": [
    "from transformers import AutoTokenizer, AutoModelForTokenClassification\n",
    "\n",
    "tokenizer = AutoTokenizer.from_pretrained(\"ckiplab/bert-base-chinese-ws\")\n",
    "\n",
    "model = AutoModelForTokenClassification.from_pretrained(\"ckiplab/bert-base-chinese-ws\")\n",
    "\n",
    "ws = WordSegmenter(model=model,tokenizer=tokenizer,device = torch.device(\"cuda\" if torch.cuda.is_available() else \"cpu\"))\n",
    "print(ws.segment(sentence))"
   ]
  }
 ],
 "metadata": {
  "kernelspec": {
   "display_name": "pytorch_gpu",
   "language": "python",
   "name": "pytorch_gpu"
  },
  "language_info": {
   "codemirror_mode": {
    "name": "ipython",
    "version": 3
   },
   "file_extension": ".py",
   "mimetype": "text/x-python",
   "name": "python",
   "nbconvert_exporter": "python",
   "pygments_lexer": "ipython3",
   "version": "3.7.5"
  },
  "orig_nbformat": 4
 },
 "nbformat": 4,
 "nbformat_minor": 2
}
